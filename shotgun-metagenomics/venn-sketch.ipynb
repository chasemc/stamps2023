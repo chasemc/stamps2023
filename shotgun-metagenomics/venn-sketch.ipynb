{
 "cells": [
  {
   "cell_type": "code",
   "execution_count": 1,
   "id": "e47138c3",
   "metadata": {},
   "outputs": [],
   "source": [
    "%matplotlib inline\n",
    "from matplotlib_venn import venn2, venn3\n",
    "import pylab"
   ]
  },
  {
   "cell_type": "code",
   "execution_count": 2,
   "id": "dc96133a",
   "metadata": {},
   "outputs": [
    {
     "name": "stdout",
     "output_type": "stream",
     "text": [
      "assembly-exercise-notes.md  assembly-hands-on.md  sketches/  venn-sketch.ipynb\r\n"
     ]
    }
   ],
   "source": [
    "ls"
   ]
  },
  {
   "cell_type": "code",
   "execution_count": 3,
   "id": "8a9bdbc6",
   "metadata": {},
   "outputs": [
    {
     "name": "stdout",
     "output_type": "stream",
     "text": [
      "ls: cannot access 'rstudio-export(1)': No such file or directory\r\n"
     ]
    }
   ],
   "source": [
    "ls rstudio-export\\(1\\)"
   ]
  },
  {
   "cell_type": "code",
   "execution_count": 4,
   "id": "7de6b658",
   "metadata": {},
   "outputs": [],
   "source": [
    "import sourmash"
   ]
  },
  {
   "cell_type": "code",
   "execution_count": 5,
   "id": "9c360eb1",
   "metadata": {},
   "outputs": [],
   "source": [
    "x = list(sourmash.load_file_as_signatures('sketches/'))"
   ]
  },
  {
   "cell_type": "code",
   "execution_count": 6,
   "id": "5403926e",
   "metadata": {},
   "outputs": [
    {
     "data": {
      "text/plain": [
       "3"
      ]
     },
     "execution_count": 6,
     "metadata": {},
     "output_type": "execute_result"
    }
   ],
   "source": [
    "len(x)"
   ]
  },
  {
   "cell_type": "code",
   "execution_count": 7,
   "id": "4bc93b64",
   "metadata": {},
   "outputs": [
    {
     "data": {
      "text/plain": [
       "<function matplotlib_venn._venn3.venn3(subsets, set_labels=('A', 'B', 'C'), set_colors=('r', 'g', 'b'), alpha=0.4, normalize_to=1.0, ax=None, subset_label_formatter=None)>"
      ]
     },
     "execution_count": 7,
     "metadata": {},
     "output_type": "execute_result"
    }
   ],
   "source": [
    "venn3"
   ]
  },
  {
   "cell_type": "code",
   "execution_count": 8,
   "id": "813f5f94",
   "metadata": {},
   "outputs": [
    {
     "data": {
      "text/plain": [
       "'assembly'"
      ]
     },
     "execution_count": 8,
     "metadata": {},
     "output_type": "execute_result"
    }
   ],
   "source": [
    "x[0].name"
   ]
  },
  {
   "cell_type": "code",
   "execution_count": 9,
   "id": "8a0c3a80",
   "metadata": {},
   "outputs": [
    {
     "data": {
      "text/plain": [
       "'reads'"
      ]
     },
     "execution_count": 9,
     "metadata": {},
     "output_type": "execute_result"
    }
   ],
   "source": [
    "x[1].name"
   ]
  },
  {
   "cell_type": "code",
   "execution_count": 10,
   "id": "25577fa8",
   "metadata": {},
   "outputs": [
    {
     "name": "stderr",
     "output_type": "stream",
     "text": [
      "/Users/t/miniforge3/envs/py38/lib/python3.8/site-packages/matplotlib_venn/_venn3.py:117: UserWarning: Bad circle positioning\n",
      "  warnings.warn(\"Bad circle positioning\")\n"
     ]
    },
    {
     "data": {
      "text/plain": [
       "<matplotlib_venn._common.VennDiagram at 0x14a986dc0>"
      ]
     },
     "execution_count": 10,
     "metadata": {},
     "output_type": "execute_result"
    },
    {
     "data": {
      "image/png": "[encoded data removed]",
      "text/plain": [
       "<Figure size 432x288 with 1 Axes>"
      ]
     },
     "metadata": {},
     "output_type": "display_data"
    }
   ],
   "source": [
    "a = set(x[0].minhash.hashes)\n",
    "b = set(x[1].minhash.hashes)\n",
    "c = set(x[2].minhash.hashes)\n",
    "\n",
    "venn3([a,b,c])"
   ]
  },
  {
   "cell_type": "code",
   "execution_count": 11,
   "id": "65350320",
   "metadata": {},
   "outputs": [
    {
     "data": {
      "image/png": "[encoded data removed]",
      "text/plain": [
       "<Figure size 432x288 with 1 Axes>"
      ]
     },
     "metadata": {},
     "output_type": "display_data"
    }
   ],
   "source": [
    "venn2([b, c], set_labels=('reads', 'ref'))\n",
    "pylab.savefig('/tmp/venn2.png')"
   ]
  },
  {
   "cell_type": "code",
   "execution_count": 12,
   "id": "f542977a",
   "metadata": {},
   "outputs": [
    {
     "data": {
      "image/png": "[encoded data removed]",
      "text/plain": [
       "<Figure size 432x288 with 1 Axes>"
      ]
     },
     "metadata": {},
     "output_type": "display_data"
    }
   ],
   "source": [
    "venn2([a, b], set_labels=('assembly', 'reads'))\n",
    "pylab.savefig('/tmp/venn2b.png')"
   ]
  },
  {
   "cell_type": "code",
   "execution_count": null,
   "id": "54b0f82b",
   "metadata": {},
   "outputs": [],
   "source": []
  }
 ],
 "metadata": {
  "kernelspec": {
   "display_name": "py38arm",
   "language": "python",
   "name": "py38arm"
  },
  "language_info": {
   "codemirror_mode": {
    "name": "ipython",
    "version": 3
   },
   "file_extension": ".py",
   "mimetype": "text/x-python",
   "name": "python",
   "nbconvert_exporter": "python",
   "pygments_lexer": "ipython3",
   "version": "3.8.13"
  }
 },
 "nbformat": 4,
 "nbformat_minor": 5
}
